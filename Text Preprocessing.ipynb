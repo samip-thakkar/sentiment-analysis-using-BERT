{
 "cells": [
  {
   "cell_type": "markdown",
   "metadata": {},
   "source": [
    "## After collecting the data in the previous step, we will do text preprocessing in this step"
   ]
  },
  {
   "cell_type": "code",
   "execution_count": 1,
   "metadata": {},
   "outputs": [
    {
     "name": "stdout",
     "output_type": "stream",
     "text": [
      "Collecting transformers\n",
      "  Downloading transformers-3.5.1-py3-none-any.whl (1.3 MB)\n",
      "Collecting sacremoses\n",
      "  Downloading sacremoses-0.0.43.tar.gz (883 kB)\n",
      "Collecting tokenizers==0.9.3\n",
      "  Downloading tokenizers-0.9.3-cp37-cp37m-win_amd64.whl (1.9 MB)\n",
      "Requirement already satisfied: protobuf in c:\\users\\thakk\\appdata\\roaming\\python\\python37\\site-packages (from transformers) (3.12.0)\n",
      "Collecting sentencepiece==0.1.91\n",
      "  Downloading sentencepiece-0.1.91-cp37-cp37m-win_amd64.whl (1.2 MB)\n",
      "Requirement already satisfied: filelock in c:\\users\\thakk\\anaconda3\\lib\\site-packages (from transformers) (3.0.12)\n",
      "Requirement already satisfied: numpy in c:\\users\\thakk\\appdata\\roaming\\python\\python37\\site-packages (from transformers) (1.18.4)\n",
      "Collecting regex!=2019.12.17\n",
      "  Downloading regex-2020.11.13-cp37-cp37m-win_amd64.whl (269 kB)\n",
      "Requirement already satisfied: requests in c:\\users\\thakk\\anaconda3\\lib\\site-packages (from transformers) (2.22.0)\n",
      "Requirement already satisfied: packaging in c:\\users\\thakk\\anaconda3\\lib\\site-packages (from transformers) (20.1)\n",
      "Requirement already satisfied: tqdm>=4.27 in c:\\users\\thakk\\anaconda3\\lib\\site-packages (from transformers) (4.42.1)\n",
      "Requirement already satisfied: six in c:\\users\\thakk\\appdata\\roaming\\python\\python37\\site-packages (from sacremoses->transformers) (1.15.0)\n",
      "Requirement already satisfied: click in c:\\users\\thakk\\anaconda3\\lib\\site-packages (from sacremoses->transformers) (7.0)\n",
      "Requirement already satisfied: joblib in c:\\users\\thakk\\anaconda3\\lib\\site-packages (from sacremoses->transformers) (0.14.1)\n",
      "Requirement already satisfied: setuptools in c:\\users\\thakk\\appdata\\roaming\\python\\python37\\site-packages (from protobuf->transformers) (46.4.0)\n",
      "Requirement already satisfied: chardet<3.1.0,>=3.0.2 in c:\\users\\thakk\\anaconda3\\lib\\site-packages (from requests->transformers) (3.0.4)\n",
      "Requirement already satisfied: urllib3!=1.25.0,!=1.25.1,<1.26,>=1.21.1 in c:\\users\\thakk\\anaconda3\\lib\\site-packages (from requests->transformers) (1.25.8)\n",
      "Requirement already satisfied: certifi>=2017.4.17 in c:\\users\\thakk\\anaconda3\\lib\\site-packages (from requests->transformers) (2019.11.28)\n",
      "Requirement already satisfied: idna<2.9,>=2.5 in c:\\users\\thakk\\anaconda3\\lib\\site-packages (from requests->transformers) (2.8)\n",
      "Requirement already satisfied: pyparsing>=2.0.2 in c:\\users\\thakk\\anaconda3\\lib\\site-packages (from packaging->transformers) (2.4.6)\n",
      "Building wheels for collected packages: sacremoses\n",
      "  Building wheel for sacremoses (setup.py): started\n",
      "  Building wheel for sacremoses (setup.py): finished with status 'done'\n",
      "  Created wheel for sacremoses: filename=sacremoses-0.0.43-py3-none-any.whl size=893262 sha256=2d5f3052ef3622ed3c9bf98785deb23e27c01ee76fb434edb531e918d73d7c01\n",
      "  Stored in directory: c:\\users\\thakk\\appdata\\local\\pip\\cache\\wheels\\69\\09\\d1\\bf058f7d6fa0ecba2ce7c66be3b8d012beb4bf61a6e0c101c0\n",
      "Successfully built sacremoses\n",
      "Installing collected packages: regex, sacremoses, tokenizers, sentencepiece, transformers\n",
      "Successfully installed regex-2020.11.13 sacremoses-0.0.43 sentencepiece-0.1.91 tokenizers-0.9.3 transformers-3.5.1\n"
     ]
    }
   ],
   "source": [
    "!pip install transformers"
   ]
  },
  {
   "cell_type": "markdown",
   "metadata": {},
   "source": [
    "### Import libraries"
   ]
  },
  {
   "cell_type": "code",
   "execution_count": 5,
   "metadata": {},
   "outputs": [
    {
     "data": {
      "text/plain": [
       "device(type='cuda', index=0)"
      ]
     },
     "execution_count": 5,
     "metadata": {},
     "output_type": "execute_result"
    }
   ],
   "source": [
    "#Libraries for Text preprocessing \n",
    "import transformers \n",
    "from transformers import BertModel, BertTokenizer, AdamW, get_linear_schedule_with_warmup\n",
    "\n",
    "#Normal computation libraries\n",
    "import pandas as pd\n",
    "import numpy as np\n",
    "\n",
    "#Visualization libraries\n",
    "import matplotlib.pyplot as plt\n",
    "import seaborn as sns\n",
    "\n",
    "#Libraries for modelling\n",
    "from sklearn.model_selection import train_test_split\n",
    "from sklearn.metrics import confusion_matrix, classification_report\n",
    "\n",
    "from collections import defaultdict\n",
    "from textwrap import wrap\n",
    "\n",
    "#Pytorch libraries\n",
    "import torch\n",
    "from torch import nn, optim\n",
    "from torch.utils.data import DataLoader, Dataset\n",
    "import torch.nn.functional as F\n",
    "\n",
    "#Set the Random Seed\n",
    "RANDOM_SEED = 42\n",
    "np.random.seed(RANDOM_SEED)\n",
    "torch.manual_seed(RANDOM_SEED)\n",
    "\n",
    "#Check for gpu\n",
    "device = torch.device(\"cuda:0\" if torch.cuda.is_available() else \"cpu\")\n",
    "device"
   ]
  },
  {
   "cell_type": "markdown",
   "metadata": {},
   "source": [
    "### Read the data"
   ]
  },
  {
   "cell_type": "code",
   "execution_count": 8,
   "metadata": {},
   "outputs": [
    {
     "data": {
      "text/html": [
       "<div>\n",
       "<style scoped>\n",
       "    .dataframe tbody tr th:only-of-type {\n",
       "        vertical-align: middle;\n",
       "    }\n",
       "\n",
       "    .dataframe tbody tr th {\n",
       "        vertical-align: top;\n",
       "    }\n",
       "\n",
       "    .dataframe thead th {\n",
       "        text-align: right;\n",
       "    }\n",
       "</style>\n",
       "<table border=\"1\" class=\"dataframe\">\n",
       "  <thead>\n",
       "    <tr style=\"text-align: right;\">\n",
       "      <th></th>\n",
       "      <th>reviewId</th>\n",
       "      <th>userName</th>\n",
       "      <th>userImage</th>\n",
       "      <th>content</th>\n",
       "      <th>score</th>\n",
       "      <th>thumbsUpCount</th>\n",
       "      <th>reviewCreatedVersion</th>\n",
       "      <th>at</th>\n",
       "      <th>replyContent</th>\n",
       "      <th>repliedAt</th>\n",
       "      <th>sortOrder</th>\n",
       "      <th>appId</th>\n",
       "    </tr>\n",
       "  </thead>\n",
       "  <tbody>\n",
       "    <tr>\n",
       "      <th>0</th>\n",
       "      <td>gp:AOqpTOEito_ps2PJsih6PrHkYUoA5Oa_N2IQ2Z8ngt-...</td>\n",
       "      <td>Feng Yu</td>\n",
       "      <td>https://play-lh.googleusercontent.com/a-/AOh14...</td>\n",
       "      <td>I had an any.do account and could not add a ne...</td>\n",
       "      <td>1</td>\n",
       "      <td>8</td>\n",
       "      <td>5.6.0.8</td>\n",
       "      <td>2020-11-15 07:36:51</td>\n",
       "      <td>Users can create an account either logging in ...</td>\n",
       "      <td>2020-11-15 03:02:54</td>\n",
       "      <td>most_relevant</td>\n",
       "      <td>com.anydo</td>\n",
       "    </tr>\n",
       "    <tr>\n",
       "      <th>1</th>\n",
       "      <td>gp:AOqpTOEA0ubPA5n0s_6lg0BHqfQqj0gi-KIdZF_I1yZ...</td>\n",
       "      <td>Lisa Pappas</td>\n",
       "      <td>https://play-lh.googleusercontent.com/a-/AOh14...</td>\n",
       "      <td>Constant crashing. After reading all the negat...</td>\n",
       "      <td>1</td>\n",
       "      <td>18</td>\n",
       "      <td>5.6.0.6</td>\n",
       "      <td>2020-10-21 10:45:24</td>\n",
       "      <td>NaN</td>\n",
       "      <td>NaN</td>\n",
       "      <td>most_relevant</td>\n",
       "      <td>com.anydo</td>\n",
       "    </tr>\n",
       "    <tr>\n",
       "      <th>2</th>\n",
       "      <td>gp:AOqpTOH-vlrtfNZEnw3Kjz6q5Z27z1GKwAuVx_qVDfo...</td>\n",
       "      <td>Stacie Grimes</td>\n",
       "      <td>https://play-lh.googleusercontent.com/a-/AOh14...</td>\n",
       "      <td>The app works well at times but I've been char...</td>\n",
       "      <td>1</td>\n",
       "      <td>2</td>\n",
       "      <td>5.6.0.8</td>\n",
       "      <td>2020-11-08 20:59:19</td>\n",
       "      <td>Please note that you may cancel your subscript...</td>\n",
       "      <td>2020-11-11 02:37:04</td>\n",
       "      <td>most_relevant</td>\n",
       "      <td>com.anydo</td>\n",
       "    </tr>\n",
       "    <tr>\n",
       "      <th>3</th>\n",
       "      <td>gp:AOqpTOGHb-APKKMNFyL1OwuGq1AGW6bQp5aYYxSHvJx...</td>\n",
       "      <td>Gale W</td>\n",
       "      <td>https://play-lh.googleusercontent.com/a-/AOh14...</td>\n",
       "      <td>I'm only looking for a grocery list app but ev...</td>\n",
       "      <td>1</td>\n",
       "      <td>2</td>\n",
       "      <td>5.6.0.6</td>\n",
       "      <td>2020-10-25 11:10:46</td>\n",
       "      <td>Sorry about that. We are not aware of any issu...</td>\n",
       "      <td>2020-10-26 02:23:42</td>\n",
       "      <td>most_relevant</td>\n",
       "      <td>com.anydo</td>\n",
       "    </tr>\n",
       "    <tr>\n",
       "      <th>4</th>\n",
       "      <td>gp:AOqpTOH9y0mrXUuqulfB_d48QIXYJet79OMMr8jzm85...</td>\n",
       "      <td>John Oswald-Jacobs</td>\n",
       "      <td>https://play-lh.googleusercontent.com/-jB1fuDT...</td>\n",
       "      <td>Hopeless customer service. I paid for the prem...</td>\n",
       "      <td>1</td>\n",
       "      <td>92</td>\n",
       "      <td>5.6.0.1</td>\n",
       "      <td>2020-09-26 00:30:52</td>\n",
       "      <td>Sorry for the delay in reply! Due to adjusted ...</td>\n",
       "      <td>2020-09-27 03:50:27</td>\n",
       "      <td>most_relevant</td>\n",
       "      <td>com.anydo</td>\n",
       "    </tr>\n",
       "  </tbody>\n",
       "</table>\n",
       "</div>"
      ],
      "text/plain": [
       "                                            reviewId            userName  ...      sortOrder      appId\n",
       "0  gp:AOqpTOEito_ps2PJsih6PrHkYUoA5Oa_N2IQ2Z8ngt-...             Feng Yu  ...  most_relevant  com.anydo\n",
       "1  gp:AOqpTOEA0ubPA5n0s_6lg0BHqfQqj0gi-KIdZF_I1yZ...         Lisa Pappas  ...  most_relevant  com.anydo\n",
       "2  gp:AOqpTOH-vlrtfNZEnw3Kjz6q5Z27z1GKwAuVx_qVDfo...       Stacie Grimes  ...  most_relevant  com.anydo\n",
       "3  gp:AOqpTOGHb-APKKMNFyL1OwuGq1AGW6bQp5aYYxSHvJx...              Gale W  ...  most_relevant  com.anydo\n",
       "4  gp:AOqpTOH9y0mrXUuqulfB_d48QIXYJet79OMMr8jzm85...  John Oswald-Jacobs  ...  most_relevant  com.anydo\n",
       "\n",
       "[5 rows x 12 columns]"
      ]
     },
     "execution_count": 8,
     "metadata": {},
     "output_type": "execute_result"
    }
   ],
   "source": [
    "#Read the reviews\n",
    "df = pd.read_csv('appReviews.csv')\n",
    "df.head()"
   ]
  },
  {
   "cell_type": "code",
   "execution_count": 11,
   "metadata": {},
   "outputs": [
    {
     "data": {
      "text/html": [
       "<div>\n",
       "<style scoped>\n",
       "    .dataframe tbody tr th:only-of-type {\n",
       "        vertical-align: middle;\n",
       "    }\n",
       "\n",
       "    .dataframe tbody tr th {\n",
       "        vertical-align: top;\n",
       "    }\n",
       "\n",
       "    .dataframe thead th {\n",
       "        text-align: right;\n",
       "    }\n",
       "</style>\n",
       "<table border=\"1\" class=\"dataframe\">\n",
       "  <thead>\n",
       "    <tr style=\"text-align: right;\">\n",
       "      <th></th>\n",
       "      <th>userName</th>\n",
       "      <th>userImage</th>\n",
       "      <th>content</th>\n",
       "      <th>score</th>\n",
       "      <th>thumbsUpCount</th>\n",
       "      <th>reviewCreatedVersion</th>\n",
       "      <th>at</th>\n",
       "      <th>replyContent</th>\n",
       "      <th>repliedAt</th>\n",
       "      <th>sortOrder</th>\n",
       "      <th>appId</th>\n",
       "    </tr>\n",
       "  </thead>\n",
       "  <tbody>\n",
       "    <tr>\n",
       "      <th>0</th>\n",
       "      <td>Feng Yu</td>\n",
       "      <td>https://play-lh.googleusercontent.com/a-/AOh14...</td>\n",
       "      <td>I had an any.do account and could not add a ne...</td>\n",
       "      <td>1</td>\n",
       "      <td>8</td>\n",
       "      <td>5.6.0.8</td>\n",
       "      <td>2020-11-15 07:36:51</td>\n",
       "      <td>Users can create an account either logging in ...</td>\n",
       "      <td>2020-11-15 03:02:54</td>\n",
       "      <td>most_relevant</td>\n",
       "      <td>com.anydo</td>\n",
       "    </tr>\n",
       "    <tr>\n",
       "      <th>1</th>\n",
       "      <td>Lisa Pappas</td>\n",
       "      <td>https://play-lh.googleusercontent.com/a-/AOh14...</td>\n",
       "      <td>Constant crashing. After reading all the negat...</td>\n",
       "      <td>1</td>\n",
       "      <td>18</td>\n",
       "      <td>5.6.0.6</td>\n",
       "      <td>2020-10-21 10:45:24</td>\n",
       "      <td>NaN</td>\n",
       "      <td>NaN</td>\n",
       "      <td>most_relevant</td>\n",
       "      <td>com.anydo</td>\n",
       "    </tr>\n",
       "    <tr>\n",
       "      <th>2</th>\n",
       "      <td>Stacie Grimes</td>\n",
       "      <td>https://play-lh.googleusercontent.com/a-/AOh14...</td>\n",
       "      <td>The app works well at times but I've been char...</td>\n",
       "      <td>1</td>\n",
       "      <td>2</td>\n",
       "      <td>5.6.0.8</td>\n",
       "      <td>2020-11-08 20:59:19</td>\n",
       "      <td>Please note that you may cancel your subscript...</td>\n",
       "      <td>2020-11-11 02:37:04</td>\n",
       "      <td>most_relevant</td>\n",
       "      <td>com.anydo</td>\n",
       "    </tr>\n",
       "    <tr>\n",
       "      <th>3</th>\n",
       "      <td>Gale W</td>\n",
       "      <td>https://play-lh.googleusercontent.com/a-/AOh14...</td>\n",
       "      <td>I'm only looking for a grocery list app but ev...</td>\n",
       "      <td>1</td>\n",
       "      <td>2</td>\n",
       "      <td>5.6.0.6</td>\n",
       "      <td>2020-10-25 11:10:46</td>\n",
       "      <td>Sorry about that. We are not aware of any issu...</td>\n",
       "      <td>2020-10-26 02:23:42</td>\n",
       "      <td>most_relevant</td>\n",
       "      <td>com.anydo</td>\n",
       "    </tr>\n",
       "    <tr>\n",
       "      <th>4</th>\n",
       "      <td>John Oswald-Jacobs</td>\n",
       "      <td>https://play-lh.googleusercontent.com/-jB1fuDT...</td>\n",
       "      <td>Hopeless customer service. I paid for the prem...</td>\n",
       "      <td>1</td>\n",
       "      <td>92</td>\n",
       "      <td>5.6.0.1</td>\n",
       "      <td>2020-09-26 00:30:52</td>\n",
       "      <td>Sorry for the delay in reply! Due to adjusted ...</td>\n",
       "      <td>2020-09-27 03:50:27</td>\n",
       "      <td>most_relevant</td>\n",
       "      <td>com.anydo</td>\n",
       "    </tr>\n",
       "  </tbody>\n",
       "</table>\n",
       "</div>"
      ],
      "text/plain": [
       "             userName                                          userImage  ...      sortOrder      appId\n",
       "0             Feng Yu  https://play-lh.googleusercontent.com/a-/AOh14...  ...  most_relevant  com.anydo\n",
       "1         Lisa Pappas  https://play-lh.googleusercontent.com/a-/AOh14...  ...  most_relevant  com.anydo\n",
       "2       Stacie Grimes  https://play-lh.googleusercontent.com/a-/AOh14...  ...  most_relevant  com.anydo\n",
       "3              Gale W  https://play-lh.googleusercontent.com/a-/AOh14...  ...  most_relevant  com.anydo\n",
       "4  John Oswald-Jacobs  https://play-lh.googleusercontent.com/-jB1fuDT...  ...  most_relevant  com.anydo\n",
       "\n",
       "[5 rows x 11 columns]"
      ]
     },
     "execution_count": 11,
     "metadata": {},
     "output_type": "execute_result"
    }
   ],
   "source": [
    "#We will remove the id for simplicity\n",
    "df.drop('reviewId', axis = 1, inplace = True)\n",
    "df.head()"
   ]
  },
  {
   "cell_type": "code",
   "execution_count": 12,
   "metadata": {},
   "outputs": [
    {
     "name": "stdout",
     "output_type": "stream",
     "text": [
      "<class 'pandas.core.frame.DataFrame'>\n",
      "RangeIndex: 16252 entries, 0 to 16251\n",
      "Data columns (total 11 columns):\n",
      " #   Column                Non-Null Count  Dtype \n",
      "---  ------                --------------  ----- \n",
      " 0   userName              16252 non-null  object\n",
      " 1   userImage             16252 non-null  object\n",
      " 2   content               16252 non-null  object\n",
      " 3   score                 16252 non-null  int64 \n",
      " 4   thumbsUpCount         16252 non-null  int64 \n",
      " 5   reviewCreatedVersion  13949 non-null  object\n",
      " 6   at                    16252 non-null  object\n",
      " 7   replyContent          8473 non-null   object\n",
      " 8   repliedAt             8473 non-null   object\n",
      " 9   sortOrder             16252 non-null  object\n",
      " 10  appId                 16252 non-null  object\n",
      "dtypes: int64(2), object(9)\n",
      "memory usage: 1.4+ MB\n"
     ]
    }
   ],
   "source": [
    "#Get the data info\n",
    "df.info()"
   ]
  },
  {
   "cell_type": "code",
   "execution_count": 19,
   "metadata": {},
   "outputs": [
    {
     "data": {
      "text/plain": [
       "Text(0, 0.5, 'Score counts')"
      ]
     },
     "execution_count": 19,
     "metadata": {},
     "output_type": "execute_result"
    },
    {
     "data": {
      "image/png": "[encoded data removed]",
      "text/plain": [
       "<Figure size 432x432 with 1 Axes>"
      ]
     },
     "metadata": {
      "needs_background": "light"
     },
     "output_type": "display_data"
    }
   ],
   "source": [
    "#We are interested in score, let's check the distribution\n",
    "plt.rcParams['figure.figsize'] = 6, 6\n",
    "review_count = sns.countplot(df.score)\n",
    "for p in review_count.patches:\n",
    "    review_count.annotate(format(p.get_height(), '.2f'), (p.get_x() + p.get_width() / 2., p.get_height()), ha = 'center', va = 'center', xytext = (0, 10), textcoords = 'offset points')\n",
    "plt.xlabel(\"Review score\")\n",
    "plt.ylabel(\"Score counts\")"
   ]
  },
  {
   "cell_type": "markdown",
   "metadata": {},
   "source": [
    "Convert the score to (4 and 5 to 2)positive, (1 and 2 to 0)negative and (3 to 1)neutral "
   ]
  },
  {
   "cell_type": "code",
   "execution_count": 20,
   "metadata": {},
   "outputs": [],
   "source": [
    "def convert_score_to_sentiment(rating):\n",
    "    rating = int(rating)\n",
    "    \n",
    "    #If negative return 0 \n",
    "    if rating < 3:\n",
    "        return 0\n",
    "    elif rating == 3:\n",
    "        return 1\n",
    "    else:\n",
    "        return 2"
   ]
  },
  {
   "cell_type": "code",
   "execution_count": 22,
   "metadata": {},
   "outputs": [
    {
     "data": {
      "text/html": [
       "<div>\n",
       "<style scoped>\n",
       "    .dataframe tbody tr th:only-of-type {\n",
       "        vertical-align: middle;\n",
       "    }\n",
       "\n",
       "    .dataframe tbody tr th {\n",
       "        vertical-align: top;\n",
       "    }\n",
       "\n",
       "    .dataframe thead th {\n",
       "        text-align: right;\n",
       "    }\n",
       "</style>\n",
       "<table border=\"1\" class=\"dataframe\">\n",
       "  <thead>\n",
       "    <tr style=\"text-align: right;\">\n",
       "      <th></th>\n",
       "      <th>userName</th>\n",
       "      <th>userImage</th>\n",
       "      <th>content</th>\n",
       "      <th>score</th>\n",
       "      <th>thumbsUpCount</th>\n",
       "      <th>reviewCreatedVersion</th>\n",
       "      <th>at</th>\n",
       "      <th>replyContent</th>\n",
       "      <th>repliedAt</th>\n",
       "      <th>sortOrder</th>\n",
       "      <th>appId</th>\n",
       "      <th>sentiment</th>\n",
       "    </tr>\n",
       "  </thead>\n",
       "  <tbody>\n",
       "    <tr>\n",
       "      <th>0</th>\n",
       "      <td>Feng Yu</td>\n",
       "      <td>https://play-lh.googleusercontent.com/a-/AOh14...</td>\n",
       "      <td>I had an any.do account and could not add a ne...</td>\n",
       "      <td>1</td>\n",
       "      <td>8</td>\n",
       "      <td>5.6.0.8</td>\n",
       "      <td>2020-11-15 07:36:51</td>\n",
       "      <td>Users can create an account either logging in ...</td>\n",
       "      <td>2020-11-15 03:02:54</td>\n",
       "      <td>most_relevant</td>\n",
       "      <td>com.anydo</td>\n",
       "      <td>0</td>\n",
       "    </tr>\n",
       "    <tr>\n",
       "      <th>1</th>\n",
       "      <td>Lisa Pappas</td>\n",
       "      <td>https://play-lh.googleusercontent.com/a-/AOh14...</td>\n",
       "      <td>Constant crashing. After reading all the negat...</td>\n",
       "      <td>1</td>\n",
       "      <td>18</td>\n",
       "      <td>5.6.0.6</td>\n",
       "      <td>2020-10-21 10:45:24</td>\n",
       "      <td>NaN</td>\n",
       "      <td>NaN</td>\n",
       "      <td>most_relevant</td>\n",
       "      <td>com.anydo</td>\n",
       "      <td>0</td>\n",
       "    </tr>\n",
       "    <tr>\n",
       "      <th>2</th>\n",
       "      <td>Stacie Grimes</td>\n",
       "      <td>https://play-lh.googleusercontent.com/a-/AOh14...</td>\n",
       "      <td>The app works well at times but I've been char...</td>\n",
       "      <td>1</td>\n",
       "      <td>2</td>\n",
       "      <td>5.6.0.8</td>\n",
       "      <td>2020-11-08 20:59:19</td>\n",
       "      <td>Please note that you may cancel your subscript...</td>\n",
       "      <td>2020-11-11 02:37:04</td>\n",
       "      <td>most_relevant</td>\n",
       "      <td>com.anydo</td>\n",
       "      <td>0</td>\n",
       "    </tr>\n",
       "    <tr>\n",
       "      <th>3</th>\n",
       "      <td>Gale W</td>\n",
       "      <td>https://play-lh.googleusercontent.com/a-/AOh14...</td>\n",
       "      <td>I'm only looking for a grocery list app but ev...</td>\n",
       "      <td>1</td>\n",
       "      <td>2</td>\n",
       "      <td>5.6.0.6</td>\n",
       "      <td>2020-10-25 11:10:46</td>\n",
       "      <td>Sorry about that. We are not aware of any issu...</td>\n",
       "      <td>2020-10-26 02:23:42</td>\n",
       "      <td>most_relevant</td>\n",
       "      <td>com.anydo</td>\n",
       "      <td>0</td>\n",
       "    </tr>\n",
       "    <tr>\n",
       "      <th>4</th>\n",
       "      <td>John Oswald-Jacobs</td>\n",
       "      <td>https://play-lh.googleusercontent.com/-jB1fuDT...</td>\n",
       "      <td>Hopeless customer service. I paid for the prem...</td>\n",
       "      <td>1</td>\n",
       "      <td>92</td>\n",
       "      <td>5.6.0.1</td>\n",
       "      <td>2020-09-26 00:30:52</td>\n",
       "      <td>Sorry for the delay in reply! Due to adjusted ...</td>\n",
       "      <td>2020-09-27 03:50:27</td>\n",
       "      <td>most_relevant</td>\n",
       "      <td>com.anydo</td>\n",
       "      <td>0</td>\n",
       "    </tr>\n",
       "  </tbody>\n",
       "</table>\n",
       "</div>"
      ],
      "text/plain": [
       "             userName                                          userImage  ...      appId  sentiment\n",
       "0             Feng Yu  https://play-lh.googleusercontent.com/a-/AOh14...  ...  com.anydo          0\n",
       "1         Lisa Pappas  https://play-lh.googleusercontent.com/a-/AOh14...  ...  com.anydo          0\n",
       "2       Stacie Grimes  https://play-lh.googleusercontent.com/a-/AOh14...  ...  com.anydo          0\n",
       "3              Gale W  https://play-lh.googleusercontent.com/a-/AOh14...  ...  com.anydo          0\n",
       "4  John Oswald-Jacobs  https://play-lh.googleusercontent.com/-jB1fuDT...  ...  com.anydo          0\n",
       "\n",
       "[5 rows x 12 columns]"
      ]
     },
     "execution_count": 22,
     "metadata": {},
     "output_type": "execute_result"
    }
   ],
   "source": [
    "#Add the new column named sentiment\n",
    "df['sentiment'] = df['score'].apply(convert_score_to_sentiment)\n",
    "df.head()"
   ]
  },
  {
   "cell_type": "code",
   "execution_count": 23,
   "metadata": {},
   "outputs": [
    {
     "data": {
      "image/png": "[encoded data removed]",
      "text/plain": [
       "<Figure size 432x432 with 1 Axes>"
      ]
     },
     "metadata": {
      "needs_background": "light"
     },
     "output_type": "display_data"
    }
   ],
   "source": [
    "#Get the distribution of the sentiments\n",
    "class_name = ['negative', 'neutral', 'positive']\n",
    "\n",
    "sentiment_count = sns.countplot(df['sentiment'])\n",
    "plt.xlabel('Sentiment')\n",
    "plt.ylabel('Sentiment count')\n",
    "sentiment_count.set_xticklabels(class_name)\n",
    "for p in sentiment_count.patches:\n",
    "    sentiment_count.annotate(format(p.get_height(), '.2f'), (p.get_x() + p.get_width() / 2., p.get_height()), ha = 'center', va = 'center', xytext = (0, 10), textcoords = 'offset points')"
   ]
  },
  {
   "cell_type": "markdown",
   "metadata": {},
   "source": [
    "The data seems balanced"
   ]
  },
  {
   "cell_type": "markdown",
   "metadata": {},
   "source": [
    "### Data Preprocessing"
   ]
  },
  {
   "cell_type": "markdown",
   "metadata": {},
   "source": [
    "We need to convert the text to numbers using tokenizer. For training data, BERT requires extra steps like\n",
    "1. BERT needs special tokens indicating starting and ending of sentence, and special tokens for classification. \n",
    "2. The input must be of fixed length (padding for less tokens)\n",
    "3. Create attention mask indicating importance of token"
   ]
  },
  {
   "cell_type": "code",
   "execution_count": 24,
   "metadata": {},
   "outputs": [],
   "source": [
    "#Define the BERT Model\n",
    "PRE_TRAINED_MODEL_NAME = 'bert-base-cased'   #Cased better here for sentiment analysis might have more weight here"
   ]
  },
  {
   "cell_type": "code",
   "execution_count": 25,
   "metadata": {},
   "outputs": [
    {
     "data": {
      "application/vnd.jupyter.widget-view+json": {
       "model_id": "359961af16dc4fcd9d23d1eb30bff584",
       "version_major": 2,
       "version_minor": 0
      },
      "text/plain": [
       "HBox(children=(FloatProgress(value=0.0, description='Downloading', max=213450.0, style=ProgressStyle(descripti…"
      ]
     },
     "metadata": {},
     "output_type": "display_data"
    },
    {
     "name": "stdout",
     "output_type": "stream",
     "text": [
      "\n"
     ]
    }
   ],
   "source": [
    "#Set the tokenizer\n",
    "tokenizer = BertTokenizer.from_pretrained(PRE_TRAINED_MODEL_NAME)"
   ]
  },
  {
   "cell_type": "markdown",
   "metadata": {},
   "source": [
    "Perform a sample text analysis"
   ]
  },
  {
   "cell_type": "code",
   "execution_count": 26,
   "metadata": {},
   "outputs": [
    {
     "name": "stdout",
     "output_type": "stream",
     "text": [
      "Sentence:  I love NLP. It is very interesting to play with words. Do you like NLP?\n",
      "Tokens:  ['I', 'love', 'NL', '##P', '.', 'It', 'is', 'very', 'interesting', 'to', 'play', 'with', 'words', '.', 'Do', 'you', 'like', 'NL', '##P', '?']\n",
      "Token ids:  [146, 1567, 21239, 2101, 119, 1135, 1110, 1304, 5426, 1106, 1505, 1114, 1734, 119, 2091, 1128, 1176, 21239, 2101, 136]\n"
     ]
    }
   ],
   "source": [
    "#Create a sample sentence for analysis\n",
    "sample = 'I love NLP. It is very interesting to play with words. Do you like NLP?'\n",
    "\n",
    "#Get the tokens\n",
    "tokens = tokenizer.tokenize(sample)\n",
    "print(\"Sentence: \", sample)\n",
    "print(\"Tokens: \",tokens)\n",
    "\n",
    "#Get the ids of tokens from BERT vocab\n",
    "token_ids = tokenizer.convert_tokens_to_ids(tokens)\n",
    "print(\"Token ids: \", token_ids)"
   ]
  },
  {
   "cell_type": "markdown",
   "metadata": {},
   "source": [
    "Add special tokens"
   ]
  },
  {
   "cell_type": "code",
   "execution_count": 27,
   "metadata": {},
   "outputs": [
    {
     "name": "stdout",
     "output_type": "stream",
     "text": [
      "[SEP] 102\n",
      "[CLS] 101\n",
      "[UNK] 100\n"
     ]
    }
   ],
   "source": [
    "#Separator token\n",
    "print(tokenizer.sep_token, tokenizer.sep_token_id)\n",
    "#Classification token\n",
    "print(tokenizer.cls_token, tokenizer.cls_token_id)\n",
    "#Unknown token\n",
    "print(tokenizer.unk_token, tokenizer.unk_token_id)"
   ]
  },
  {
   "cell_type": "markdown",
   "metadata": {},
   "source": [
    "Get the encoding directly using method"
   ]
  },
  {
   "cell_type": "code",
   "execution_count": 34,
   "metadata": {},
   "outputs": [
    {
     "name": "stderr",
     "output_type": "stream",
     "text": [
      "C:\\Users\\thakk\\anaconda3\\lib\\site-packages\\transformers\\tokenization_utils_base.py:2022: FutureWarning: The `pad_to_max_length` argument is deprecated and will be removed in a future version, use `padding=True` or `padding='longest'` to pad to the longest sequence in the batch, or use `padding='max_length'` to pad to a max length. In this case, you can give a specific length with `max_length` (e.g. `max_length=45`) or leave max_length to None to pad to the maximal input size of the model (e.g. 512 for Bert).\n",
      "  FutureWarning,\n"
     ]
    }
   ],
   "source": [
    "#Get the tokens and attention masks\n",
    "encoding = tokenizer.encode_plus(\n",
    "    sample,\n",
    "    max_length=64,\n",
    "    add_special_tokens=True,   #Add SEP, CLS tokens\n",
    "    return_token_type_ids=False,\n",
    "    pad_to_max_length=True,   #Automatic padding\n",
    "    return_attention_mask=True,\n",
    "    return_tensors='pt'    #Returns pytorch tensors (tf for Tensorflow)\n",
    ")"
   ]
  },
  {
   "cell_type": "code",
   "execution_count": 35,
   "metadata": {},
   "outputs": [
    {
     "data": {
      "text/plain": [
       "dict_keys(['input_ids', 'attention_mask'])"
      ]
     },
     "execution_count": 35,
     "metadata": {},
     "output_type": "execute_result"
    }
   ],
   "source": [
    "#Get the encoding details\n",
    "encoding.keys()"
   ]
  },
  {
   "cell_type": "code",
   "execution_count": 36,
   "metadata": {},
   "outputs": [
    {
     "name": "stdout",
     "output_type": "stream",
     "text": [
      "64\n"
     ]
    },
    {
     "data": {
      "text/plain": [
       "tensor([  101,   146,  1567, 21239,  2101,   119,  1135,  1110,  1304,  5426,\n",
       "         1106,  1505,  1114,  1734,   119,  2091,  1128,  1176, 21239,  2101,\n",
       "          136,   102,     0,     0,     0,     0,     0,     0,     0,     0,\n",
       "            0,     0,     0,     0,     0,     0,     0,     0,     0,     0,\n",
       "            0,     0,     0,     0,     0,     0,     0,     0,     0,     0,\n",
       "            0,     0,     0,     0,     0,     0,     0,     0,     0,     0,\n",
       "            0,     0,     0,     0])"
      ]
     },
     "execution_count": 36,
     "metadata": {},
     "output_type": "execute_result"
    }
   ],
   "source": [
    "#Check the encoding ids\n",
    "print(len(encoding['input_ids'][0]))\n",
    "encoding['input_ids'][0]"
   ]
  },
  {
   "cell_type": "code",
   "execution_count": 38,
   "metadata": {},
   "outputs": [
    {
     "name": "stdout",
     "output_type": "stream",
     "text": [
      "64\n"
     ]
    },
    {
     "data": {
      "text/plain": [
       "tensor([[1, 1, 1, 1, 1, 1, 1, 1, 1, 1, 1, 1, 1, 1, 1, 1, 1, 1, 1, 1, 1, 1, 0, 0,\n",
       "         0, 0, 0, 0, 0, 0, 0, 0, 0, 0, 0, 0, 0, 0, 0, 0, 0, 0, 0, 0, 0, 0, 0, 0,\n",
       "         0, 0, 0, 0, 0, 0, 0, 0, 0, 0, 0, 0, 0, 0, 0, 0]])"
      ]
     },
     "execution_count": 38,
     "metadata": {},
     "output_type": "execute_result"
    }
   ],
   "source": [
    "#Check the attention masks (1 for important, 0 for not)\n",
    "print(len(encoding['attention_mask'][0]))\n",
    "encoding['attention_mask']"
   ]
  },
  {
   "cell_type": "code",
   "execution_count": 40,
   "metadata": {},
   "outputs": [
    {
     "name": "stdout",
     "output_type": "stream",
     "text": [
      "['[CLS]', 'I', 'love', 'NL', '##P', '.', 'It', 'is', 'very', 'interesting', 'to', 'play', 'with', 'words', '.', 'Do', 'you', 'like', 'NL', '##P', '?', '[SEP]', '[PAD]', '[PAD]', '[PAD]', '[PAD]', '[PAD]', '[PAD]', '[PAD]', '[PAD]', '[PAD]', '[PAD]', '[PAD]', '[PAD]', '[PAD]', '[PAD]', '[PAD]', '[PAD]', '[PAD]', '[PAD]', '[PAD]', '[PAD]', '[PAD]', '[PAD]', '[PAD]', '[PAD]', '[PAD]', '[PAD]', '[PAD]', '[PAD]', '[PAD]', '[PAD]', '[PAD]', '[PAD]', '[PAD]', '[PAD]', '[PAD]', '[PAD]', '[PAD]', '[PAD]', '[PAD]', '[PAD]', '[PAD]', '[PAD]']\n"
     ]
    }
   ],
   "source": [
    "#Get the original word\n",
    "print(tokenizer.convert_ids_to_tokens(encoding['input_ids'][0]))"
   ]
  },
  {
   "cell_type": "markdown",
   "metadata": {},
   "source": [
    "One of the question is how to set the max_padding length. It is generally in multiple of 2 and greater than sentence with highest length"
   ]
  },
  {
   "cell_type": "code",
   "execution_count": 41,
   "metadata": {},
   "outputs": [],
   "source": [
    "token_lens = []\n",
    "#Iterate through all content of reviews\n",
    "for text in df.content:\n",
    "    tokens = tokenizer.tokenize(text)\n",
    "    token_lens.append(len(tokens))"
   ]
  },
  {
   "cell_type": "code",
   "execution_count": 44,
   "metadata": {},
   "outputs": [
    {
     "data": {
      "text/plain": [
       "Text(0, 0.5, '% of counts')"
      ]
     },
     "execution_count": 44,
     "metadata": {},
     "output_type": "execute_result"
    },
    {
     "data": {
      "image/png": "[encoded data removed]",
      "text/plain": [
       "<Figure size 432x432 with 1 Axes>"
      ]
     },
     "metadata": {
      "needs_background": "light"
     },
     "output_type": "display_data"
    }
   ],
   "source": [
    "#Get the distribution plot\n",
    "sns.distplot(token_lens)\n",
    "plt.xlim([0, 256]);\n",
    "plt.xlabel('Token length')\n",
    "plt.ylabel('% of counts')"
   ]
  },
  {
   "cell_type": "markdown",
   "metadata": {},
   "source": [
    "We can take 128 as most of the token_length are less than 128"
   ]
  },
  {
   "cell_type": "code",
   "execution_count": 45,
   "metadata": {},
   "outputs": [],
   "source": [
    "MAX_LEN =128"
   ]
  },
  {
   "cell_type": "code",
   "execution_count": null,
   "metadata": {},
   "outputs": [],
   "source": []
  }
 ],
 "metadata": {
  "kernelspec": {
   "display_name": "Python 3",
   "language": "python",
   "name": "python3"
  },
  "language_info": {
   "codemirror_mode": {
    "name": "ipython",
    "version": 3
   },
   "file_extension": ".py",
   "mimetype": "text/x-python",
   "name": "python",
   "nbconvert_exporter": "python",
   "pygments_lexer": "ipython3",
   "version": "3.7.6"
  }
 },
 "nbformat": 4,
 "nbformat_minor": 4
}
